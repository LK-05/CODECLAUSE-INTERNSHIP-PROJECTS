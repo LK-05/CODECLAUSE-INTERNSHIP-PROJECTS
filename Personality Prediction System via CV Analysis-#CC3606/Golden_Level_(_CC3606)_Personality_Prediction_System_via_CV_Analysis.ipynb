{
  "nbformat": 4,
  "nbformat_minor": 0,
  "metadata": {
    "colab": {
      "provenance": []
    },
    "kernelspec": {
      "name": "python3",
      "display_name": "Python 3"
    },
    "language_info": {
      "name": "python"
    }
  },
  "cells": [
    {
      "cell_type": "markdown",
      "source": [
        "Project ID - #CC3606\n",
        "\n",
        "Project Title - Personality Prediction System via CV Analysis\n",
        "\n",
        "Internship Domain - Artificial Intelligence Intern\n",
        "\n",
        "Project Level - Golden Level\n",
        "\n",
        "Assigned By- CodeClause Internship\n",
        "\n",
        "Assigned To-Lakshmipriya K\n",
        "\n",
        "Start Date -01 Oct 2024\n",
        "\n",
        "End Date - 31 Oct 2024\n",
        "\n",
        "Project Details-\n",
        "\n",
        "Aim -\n",
        "Develop an AI-driven system that predicts an individual's personality traits by\n",
        "analyzing their Curriculum Vitae (CV) or resume.\n",
        "\n",
        "Description-\n",
        "This project aims to create a sophisticated personality prediction system that utilizes\n",
        "natural language processing (NLP) and machine learning techniques to analyze the\n",
        "textual content of CVs. The system will extract relevant information from resumes,\n",
        "such as educational background, work experience, skills, and achievements. By\n",
        "employing sentiment analysis, linguistic pattern recognition, and personality trait\n",
        "models, the system will predict personality characteristics like extroversion,\n",
        "conscientiousness, openness, agreeableness, and neuroticism.\n",
        "\n",
        "Technologies-\n",
        "Python, OpenCV, Deep reinforcement learning frameworks\n",
        "You can use other technologies that you know.\n",
        "\n",
        "What You Learn-\n",
        "Computer vision, reinforcement learning.\n",
        ""
      ],
      "metadata": {
        "id": "oU3JIdz2H8yF"
      }
    },
    {
      "cell_type": "code",
      "source": [
        "!pip install nltk pandas scikit-learn\n"
      ],
      "metadata": {
        "colab": {
          "base_uri": "https://localhost:8080/"
        },
        "id": "w_WToLI352Lh",
        "outputId": "5f653c32-30ba-49d5-a307-7af5e92d1809"
      },
      "execution_count": 28,
      "outputs": [
        {
          "output_type": "stream",
          "name": "stdout",
          "text": [
            "Requirement already satisfied: nltk in /usr/local/lib/python3.10/dist-packages (3.8.1)\n",
            "Requirement already satisfied: pandas in /usr/local/lib/python3.10/dist-packages (2.2.2)\n",
            "Requirement already satisfied: scikit-learn in /usr/local/lib/python3.10/dist-packages (1.5.2)\n",
            "Requirement already satisfied: click in /usr/local/lib/python3.10/dist-packages (from nltk) (8.1.7)\n",
            "Requirement already satisfied: joblib in /usr/local/lib/python3.10/dist-packages (from nltk) (1.4.2)\n",
            "Requirement already satisfied: regex>=2021.8.3 in /usr/local/lib/python3.10/dist-packages (from nltk) (2024.9.11)\n",
            "Requirement already satisfied: tqdm in /usr/local/lib/python3.10/dist-packages (from nltk) (4.66.5)\n",
            "Requirement already satisfied: numpy>=1.22.4 in /usr/local/lib/python3.10/dist-packages (from pandas) (1.26.4)\n",
            "Requirement already satisfied: python-dateutil>=2.8.2 in /usr/local/lib/python3.10/dist-packages (from pandas) (2.8.2)\n",
            "Requirement already satisfied: pytz>=2020.1 in /usr/local/lib/python3.10/dist-packages (from pandas) (2024.2)\n",
            "Requirement already satisfied: tzdata>=2022.7 in /usr/local/lib/python3.10/dist-packages (from pandas) (2024.2)\n",
            "Requirement already satisfied: scipy>=1.6.0 in /usr/local/lib/python3.10/dist-packages (from scikit-learn) (1.13.1)\n",
            "Requirement already satisfied: threadpoolctl>=3.1.0 in /usr/local/lib/python3.10/dist-packages (from scikit-learn) (3.5.0)\n",
            "Requirement already satisfied: six>=1.5 in /usr/local/lib/python3.10/dist-packages (from python-dateutil>=2.8.2->pandas) (1.16.0)\n"
          ]
        }
      ]
    },
    {
      "cell_type": "code",
      "source": [
        "from google.colab import files\n",
        "uploaded = files.upload()\n"
      ],
      "metadata": {
        "colab": {
          "base_uri": "https://localhost:8080/",
          "height": 90
        },
        "id": "OA4l-m0O52Io",
        "outputId": "2831afa1-0984-4d8b-f9bf-47326dfc88a5"
      },
      "execution_count": 43,
      "outputs": [
        {
          "output_type": "display_data",
          "data": {
            "text/plain": [
              "<IPython.core.display.HTML object>"
            ],
            "text/html": [
              "\n",
              "     <input type=\"file\" id=\"files-66512708-a397-4976-b0a3-3157c6e531ef\" name=\"files[]\" multiple disabled\n",
              "        style=\"border:none\" />\n",
              "     <output id=\"result-66512708-a397-4976-b0a3-3157c6e531ef\">\n",
              "      Upload widget is only available when the cell has been executed in the\n",
              "      current browser session. Please rerun this cell to enable.\n",
              "      </output>\n",
              "      <script>// Copyright 2017 Google LLC\n",
              "//\n",
              "// Licensed under the Apache License, Version 2.0 (the \"License\");\n",
              "// you may not use this file except in compliance with the License.\n",
              "// You may obtain a copy of the License at\n",
              "//\n",
              "//      http://www.apache.org/licenses/LICENSE-2.0\n",
              "//\n",
              "// Unless required by applicable law or agreed to in writing, software\n",
              "// distributed under the License is distributed on an \"AS IS\" BASIS,\n",
              "// WITHOUT WARRANTIES OR CONDITIONS OF ANY KIND, either express or implied.\n",
              "// See the License for the specific language governing permissions and\n",
              "// limitations under the License.\n",
              "\n",
              "/**\n",
              " * @fileoverview Helpers for google.colab Python module.\n",
              " */\n",
              "(function(scope) {\n",
              "function span(text, styleAttributes = {}) {\n",
              "  const element = document.createElement('span');\n",
              "  element.textContent = text;\n",
              "  for (const key of Object.keys(styleAttributes)) {\n",
              "    element.style[key] = styleAttributes[key];\n",
              "  }\n",
              "  return element;\n",
              "}\n",
              "\n",
              "// Max number of bytes which will be uploaded at a time.\n",
              "const MAX_PAYLOAD_SIZE = 100 * 1024;\n",
              "\n",
              "function _uploadFiles(inputId, outputId) {\n",
              "  const steps = uploadFilesStep(inputId, outputId);\n",
              "  const outputElement = document.getElementById(outputId);\n",
              "  // Cache steps on the outputElement to make it available for the next call\n",
              "  // to uploadFilesContinue from Python.\n",
              "  outputElement.steps = steps;\n",
              "\n",
              "  return _uploadFilesContinue(outputId);\n",
              "}\n",
              "\n",
              "// This is roughly an async generator (not supported in the browser yet),\n",
              "// where there are multiple asynchronous steps and the Python side is going\n",
              "// to poll for completion of each step.\n",
              "// This uses a Promise to block the python side on completion of each step,\n",
              "// then passes the result of the previous step as the input to the next step.\n",
              "function _uploadFilesContinue(outputId) {\n",
              "  const outputElement = document.getElementById(outputId);\n",
              "  const steps = outputElement.steps;\n",
              "\n",
              "  const next = steps.next(outputElement.lastPromiseValue);\n",
              "  return Promise.resolve(next.value.promise).then((value) => {\n",
              "    // Cache the last promise value to make it available to the next\n",
              "    // step of the generator.\n",
              "    outputElement.lastPromiseValue = value;\n",
              "    return next.value.response;\n",
              "  });\n",
              "}\n",
              "\n",
              "/**\n",
              " * Generator function which is called between each async step of the upload\n",
              " * process.\n",
              " * @param {string} inputId Element ID of the input file picker element.\n",
              " * @param {string} outputId Element ID of the output display.\n",
              " * @return {!Iterable<!Object>} Iterable of next steps.\n",
              " */\n",
              "function* uploadFilesStep(inputId, outputId) {\n",
              "  const inputElement = document.getElementById(inputId);\n",
              "  inputElement.disabled = false;\n",
              "\n",
              "  const outputElement = document.getElementById(outputId);\n",
              "  outputElement.innerHTML = '';\n",
              "\n",
              "  const pickedPromise = new Promise((resolve) => {\n",
              "    inputElement.addEventListener('change', (e) => {\n",
              "      resolve(e.target.files);\n",
              "    });\n",
              "  });\n",
              "\n",
              "  const cancel = document.createElement('button');\n",
              "  inputElement.parentElement.appendChild(cancel);\n",
              "  cancel.textContent = 'Cancel upload';\n",
              "  const cancelPromise = new Promise((resolve) => {\n",
              "    cancel.onclick = () => {\n",
              "      resolve(null);\n",
              "    };\n",
              "  });\n",
              "\n",
              "  // Wait for the user to pick the files.\n",
              "  const files = yield {\n",
              "    promise: Promise.race([pickedPromise, cancelPromise]),\n",
              "    response: {\n",
              "      action: 'starting',\n",
              "    }\n",
              "  };\n",
              "\n",
              "  cancel.remove();\n",
              "\n",
              "  // Disable the input element since further picks are not allowed.\n",
              "  inputElement.disabled = true;\n",
              "\n",
              "  if (!files) {\n",
              "    return {\n",
              "      response: {\n",
              "        action: 'complete',\n",
              "      }\n",
              "    };\n",
              "  }\n",
              "\n",
              "  for (const file of files) {\n",
              "    const li = document.createElement('li');\n",
              "    li.append(span(file.name, {fontWeight: 'bold'}));\n",
              "    li.append(span(\n",
              "        `(${file.type || 'n/a'}) - ${file.size} bytes, ` +\n",
              "        `last modified: ${\n",
              "            file.lastModifiedDate ? file.lastModifiedDate.toLocaleDateString() :\n",
              "                                    'n/a'} - `));\n",
              "    const percent = span('0% done');\n",
              "    li.appendChild(percent);\n",
              "\n",
              "    outputElement.appendChild(li);\n",
              "\n",
              "    const fileDataPromise = new Promise((resolve) => {\n",
              "      const reader = new FileReader();\n",
              "      reader.onload = (e) => {\n",
              "        resolve(e.target.result);\n",
              "      };\n",
              "      reader.readAsArrayBuffer(file);\n",
              "    });\n",
              "    // Wait for the data to be ready.\n",
              "    let fileData = yield {\n",
              "      promise: fileDataPromise,\n",
              "      response: {\n",
              "        action: 'continue',\n",
              "      }\n",
              "    };\n",
              "\n",
              "    // Use a chunked sending to avoid message size limits. See b/62115660.\n",
              "    let position = 0;\n",
              "    do {\n",
              "      const length = Math.min(fileData.byteLength - position, MAX_PAYLOAD_SIZE);\n",
              "      const chunk = new Uint8Array(fileData, position, length);\n",
              "      position += length;\n",
              "\n",
              "      const base64 = btoa(String.fromCharCode.apply(null, chunk));\n",
              "      yield {\n",
              "        response: {\n",
              "          action: 'append',\n",
              "          file: file.name,\n",
              "          data: base64,\n",
              "        },\n",
              "      };\n",
              "\n",
              "      let percentDone = fileData.byteLength === 0 ?\n",
              "          100 :\n",
              "          Math.round((position / fileData.byteLength) * 100);\n",
              "      percent.textContent = `${percentDone}% done`;\n",
              "\n",
              "    } while (position < fileData.byteLength);\n",
              "  }\n",
              "\n",
              "  // All done.\n",
              "  yield {\n",
              "    response: {\n",
              "      action: 'complete',\n",
              "    }\n",
              "  };\n",
              "}\n",
              "\n",
              "scope.google = scope.google || {};\n",
              "scope.google.colab = scope.google.colab || {};\n",
              "scope.google.colab._files = {\n",
              "  _uploadFiles,\n",
              "  _uploadFilesContinue,\n",
              "};\n",
              "})(self);\n",
              "</script> "
            ]
          },
          "metadata": {}
        },
        {
          "output_type": "stream",
          "name": "stdout",
          "text": [
            "Saving resume.docx to resume.docx\n"
          ]
        }
      ]
    },
    {
      "cell_type": "code",
      "source": [
        "from docx import Document\n",
        "\n",
        "def read_docx(file_path):\n",
        "    doc = Document(file_path)\n",
        "    text = \"\\n\".join([para.text for para in doc.paragraphs])\n",
        "    return text\n",
        "\n",
        "resume_text = read_docx('resume.docx')\n"
      ],
      "metadata": {
        "id": "6IH7l6Td52FU"
      },
      "execution_count": 45,
      "outputs": []
    },
    {
      "cell_type": "code",
      "source": [
        "import nltk\n",
        "from nltk.tokenize import word_tokenize\n",
        "import string\n",
        "\n",
        "nltk.download('punkt')\n",
        "\n",
        "def preprocess_text(text):\n",
        "    # Remove punctuation and convert to lowercase\n",
        "    text = text.translate(str.maketrans('', '', string.punctuation)).lower()\n",
        "    # Tokenize the text\n",
        "    tokens = word_tokenize(text)\n",
        "    return tokens\n",
        "\n",
        "tokens = preprocess_text(resume_text)\n"
      ],
      "metadata": {
        "colab": {
          "base_uri": "https://localhost:8080/"
        },
        "id": "LppnegA252CU",
        "outputId": "2ecc6a86-e57f-4ad4-d04d-2e9dc8ba9f51"
      },
      "execution_count": 46,
      "outputs": [
        {
          "output_type": "stream",
          "name": "stderr",
          "text": [
            "[nltk_data] Downloading package punkt to /root/nltk_data...\n",
            "[nltk_data]   Package punkt is already up-to-date!\n"
          ]
        }
      ]
    },
    {
      "cell_type": "code",
      "source": [
        "print(resume_text)\n"
      ],
      "metadata": {
        "colab": {
          "base_uri": "https://localhost:8080/"
        },
        "id": "fcehgVVB-Zmy",
        "outputId": "8cf9c633-9b19-4254-a127-d845aef94db9"
      },
      "execution_count": 47,
      "outputs": [
        {
          "output_type": "stream",
          "name": "stdout",
          "text": [
            "John Doe\n",
            "Phone: +123456789\n",
            "Email: john.doe@email.com\n",
            "LinkedIn: linkedin.com/in/johndoe\n",
            "\n",
            "Professional Summary\n",
            "Experienced software engineer with over 5 years of experience in Python development and machine learning. Proven ability to lead projects, collaborate with cross-functional teams, and deliver robust technical solutions. Strong problem-solving skills and a passion for continuous learning.\n",
            "Work Experience\n",
            "Software Engineer\n",
            "ABC Tech Solutions | Jan 2020 - Present\n",
            "- Led the development of scalable applications using Python and Flask.\n",
            "- Implemented machine learning models for predictive analytics.\n",
            "- Collaborated with data scientists to enhance algorithm performance by 15%.\n",
            "- Improved API response time by 25% by optimizing backend code.\n",
            "\n",
            "Junior Developer\n",
            "XYZ Innovations | Jan 2018 - Dec 2019\n",
            "- Developed data processing scripts using Python and Pandas.\n",
            "- Assisted in the design and development of web applications using Django.\n",
            "- Contributed to team-wide code reviews and bug-fixing efforts.\n",
            "\n",
            "Education\n",
            "B.Tech in Computer Science |Drexel University | 2014 – 2018\n",
            "M.Tech in Computer Science |Drexel University | 2019 - 2020\n",
            "Skills\n",
            "Python, Machine Learning, Flask, Django, Pandas, SQL, Git, APIs\n",
            "\n"
          ]
        }
      ]
    },
    {
      "cell_type": "code",
      "source": [
        "tokens = preprocess_text(resume_text)\n",
        "print(tokens)"
      ],
      "metadata": {
        "colab": {
          "base_uri": "https://localhost:8080/"
        },
        "id": "Ea8qawUc-daK",
        "outputId": "f7445362-e2b7-4470-9305-37e04556afbc"
      },
      "execution_count": 48,
      "outputs": [
        {
          "output_type": "stream",
          "name": "stdout",
          "text": [
            "['john', 'doe', 'phone', '123456789', 'email', 'johndoeemailcom', 'linkedin', 'linkedincominjohndoe', 'professional', 'summary', 'experienced', 'software', 'engineer', 'with', 'over', '5', 'years', 'of', 'experience', 'in', 'python', 'development', 'and', 'machine', 'learning', 'proven', 'ability', 'to', 'lead', 'projects', 'collaborate', 'with', 'crossfunctional', 'teams', 'and', 'deliver', 'robust', 'technical', 'solutions', 'strong', 'problemsolving', 'skills', 'and', 'a', 'passion', 'for', 'continuous', 'learning', 'work', 'experience', 'software', 'engineer', 'abc', 'tech', 'solutions', 'jan', '2020', 'present', 'led', 'the', 'development', 'of', 'scalable', 'applications', 'using', 'python', 'and', 'flask', 'implemented', 'machine', 'learning', 'models', 'for', 'predictive', 'analytics', 'collaborated', 'with', 'data', 'scientists', 'to', 'enhance', 'algorithm', 'performance', 'by', '15', 'improved', 'api', 'response', 'time', 'by', '25', 'by', 'optimizing', 'backend', 'code', 'junior', 'developer', 'xyz', 'innovations', 'jan', '2018', 'dec', '2019', 'developed', 'data', 'processing', 'scripts', 'using', 'python', 'and', 'pandas', 'assisted', 'in', 'the', 'design', 'and', 'development', 'of', 'web', 'applications', 'using', 'django', 'contributed', 'to', 'teamwide', 'code', 'reviews', 'and', 'bugfixing', 'efforts', 'education', 'btech', 'in', 'computer', 'science', 'drexel', 'university', '2014', '–', '2018', 'mtech', 'in', 'computer', 'science', 'drexel', 'university', '2019', '2020', 'skills', 'python', 'machine', 'learning', 'flask', 'django', 'pandas', 'sql', 'git', 'apis']\n"
          ]
        }
      ]
    },
    {
      "cell_type": "code",
      "source": [
        "# Updated keywords for personality traits based on resume context\n",
        "keywords = {\n",
        "    \"extroversion\": [\"outgoing\", \"sociable\", \"talkative\", \"friendly\", \"collaborate\", \"lead\"],\n",
        "    \"conscientiousness\": [\"organized\", \"dependable\", \"responsible\", \"detail-oriented\", \"lead\", \"strong\", \"skills\"],\n",
        "    \"openness\": [\"creative\", \"imaginative\", \"curious\", \"adventurous\", \"learning\"],\n",
        "    \"agreeableness\": [\"helpful\", \"cooperative\", \"kind\", \"trusting\", \"collaborated\"],\n",
        "    \"neuroticism\": [\"anxious\", \"nervous\", \"sensitive\", \"problem-solving\"]\n",
        "}\n",
        "\n",
        "def extract_features(tokens):\n",
        "    personality_scores = {trait: 0 for trait in keywords.keys()}\n",
        "    for token in tokens:\n",
        "        for trait, words in keywords.items():\n",
        "            if token in words:\n",
        "                personality_scores[trait] += 1\n",
        "    print(\"Personality Scores:\", personality_scores)  # Debug: Print scores during extraction\n",
        "    return personality_scores\n",
        "\n",
        "# Assuming you have already extracted tokens from the resume\n",
        "tokens = preprocess_text(resume_text)\n",
        "print(\"Tokens:\", tokens)  # Print tokens for verification\n",
        "\n",
        "# Extract personality traits based on tokens\n",
        "personality_scores = extract_features(tokens)\n",
        "\n",
        "# Print the final scores\n",
        "print(\"Final Personality Trait Scores:\")\n",
        "for trait, score in personality_scores.items():\n",
        "    print(f\"{trait.capitalize()}: {score}\")\n"
      ],
      "metadata": {
        "colab": {
          "base_uri": "https://localhost:8080/"
        },
        "id": "-ZP_goz_51_F",
        "outputId": "1d52fc11-7bc4-4d87-873b-60055fe806b6"
      },
      "execution_count": 52,
      "outputs": [
        {
          "output_type": "stream",
          "name": "stdout",
          "text": [
            "Tokens: ['john', 'doe', 'phone', '123456789', 'email', 'johndoeemailcom', 'linkedin', 'linkedincominjohndoe', 'professional', 'summary', 'experienced', 'software', 'engineer', 'with', 'over', '5', 'years', 'of', 'experience', 'in', 'python', 'development', 'and', 'machine', 'learning', 'proven', 'ability', 'to', 'lead', 'projects', 'collaborate', 'with', 'crossfunctional', 'teams', 'and', 'deliver', 'robust', 'technical', 'solutions', 'strong', 'problemsolving', 'skills', 'and', 'a', 'passion', 'for', 'continuous', 'learning', 'work', 'experience', 'software', 'engineer', 'abc', 'tech', 'solutions', 'jan', '2020', 'present', 'led', 'the', 'development', 'of', 'scalable', 'applications', 'using', 'python', 'and', 'flask', 'implemented', 'machine', 'learning', 'models', 'for', 'predictive', 'analytics', 'collaborated', 'with', 'data', 'scientists', 'to', 'enhance', 'algorithm', 'performance', 'by', '15', 'improved', 'api', 'response', 'time', 'by', '25', 'by', 'optimizing', 'backend', 'code', 'junior', 'developer', 'xyz', 'innovations', 'jan', '2018', 'dec', '2019', 'developed', 'data', 'processing', 'scripts', 'using', 'python', 'and', 'pandas', 'assisted', 'in', 'the', 'design', 'and', 'development', 'of', 'web', 'applications', 'using', 'django', 'contributed', 'to', 'teamwide', 'code', 'reviews', 'and', 'bugfixing', 'efforts', 'education', 'btech', 'in', 'computer', 'science', 'drexel', 'university', '2014', '–', '2018', 'mtech', 'in', 'computer', 'science', 'drexel', 'university', '2019', '2020', 'skills', 'python', 'machine', 'learning', 'flask', 'django', 'pandas', 'sql', 'git', 'apis']\n",
            "Personality Scores: {'extroversion': 2, 'conscientiousness': 4, 'openness': 4, 'agreeableness': 1, 'neuroticism': 0}\n",
            "Final Personality Trait Scores:\n",
            "Extroversion: 2\n",
            "Conscientiousness: 4\n",
            "Openness: 4\n",
            "Agreeableness: 1\n",
            "Neuroticism: 0\n"
          ]
        }
      ]
    },
    {
      "cell_type": "code",
      "source": [
        "import numpy as np\n",
        "from sklearn.linear_model import LogisticRegression\n",
        "\n",
        "# Sample training data\n",
        "X_train = np.array([[1, 0, 2, 1, 0], [0, 1, 1, 0, 3]])  # Feature vectors\n",
        "y_train = np.array([0, 1])  # Labels (0: Low, 1: High for a specific trait)\n",
        "\n",
        "# Train the model\n",
        "model = LogisticRegression()\n",
        "model.fit(X_train, y_train)\n",
        "\n",
        "# Use the model to predict\n",
        "predicted_traits = model.predict(np.array([[*personality_scores.values()]]))\n"
      ],
      "metadata": {
        "id": "cja1ajjT5170"
      },
      "execution_count": 53,
      "outputs": []
    },
    {
      "cell_type": "code",
      "source": [
        "def print_personality_prediction(scores):\n",
        "    for trait, score in scores.items():\n",
        "        print(f\"{trait.capitalize()}: {score}\")\n",
        "\n",
        "print_personality_prediction(personality_scores)\n"
      ],
      "metadata": {
        "colab": {
          "base_uri": "https://localhost:8080/"
        },
        "id": "gpmuHl0d514z",
        "outputId": "64c7d202-bdad-4c67-8997-92ab7593debf"
      },
      "execution_count": 54,
      "outputs": [
        {
          "output_type": "stream",
          "name": "stdout",
          "text": [
            "Extroversion: 2\n",
            "Conscientiousness: 4\n",
            "Openness: 4\n",
            "Agreeableness: 1\n",
            "Neuroticism: 0\n"
          ]
        }
      ]
    },
    {
      "cell_type": "code",
      "source": [],
      "metadata": {
        "id": "FELSPkUK5119"
      },
      "execution_count": null,
      "outputs": []
    },
    {
      "cell_type": "code",
      "source": [],
      "metadata": {
        "id": "zCfRbTUr51y-"
      },
      "execution_count": null,
      "outputs": []
    },
    {
      "cell_type": "code",
      "source": [],
      "metadata": {
        "id": "F9rdPkyK51vn"
      },
      "execution_count": null,
      "outputs": []
    },
    {
      "cell_type": "code",
      "source": [],
      "metadata": {
        "id": "QGMD9Mvw51sy"
      },
      "execution_count": null,
      "outputs": []
    }
  ]
}